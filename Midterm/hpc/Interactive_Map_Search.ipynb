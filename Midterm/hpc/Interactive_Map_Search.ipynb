{
 "cells": [
  {
   "cell_type": "code",
   "execution_count": null,
   "metadata": {},
   "outputs": [
    {
     "name": "stdout",
     "output_type": "stream",
     "text": [
      "Enter Month number (01-12 or years_sets)(Q/q to quit): 01\n",
      "Enter a Name(Q/q to quit): Phoebis sennae\n",
      "Enter Month number (01-12 or years_sets)(Q/q to quit): 04\n",
      "Enter a Name(Q/q to quit): Phoebis sennae\n",
      "Enter Month number (01-12 or years_sets)(Q/q to quit): 05\n",
      "Enter a Name(Q/q to quit): Phoebis sennae\n"
     ]
    }
   ],
   "source": [
    "'''\n",
    "@author: Asa Myrvik\n",
    "Created: 10/30/2017\n",
    "Description: A program that runs through files and opens images\n",
    "'''\n",
    "#==========================================================================================\n",
    "\n",
    "import os\n",
    "from os import listdir\n",
    "\n",
    "import PIL\n",
    "from PIL import Image\n",
    "\n",
    "#==========================================================================================\n",
    "\n",
    "def list_files(path):\n",
    "    # returns a list of names (with extension, without full path) of all files \n",
    "    # in folder path\n",
    "    files = []\n",
    "    for name in os.listdir(path):\n",
    "        if os.path.isfile(os.path.join(path, name)):\n",
    "            files.append(name)\n",
    "    return files \n",
    "\n",
    "#==========================================================================================\n",
    "\n",
    "def main():\n",
    "    nameL={}\n",
    "    #Here we open the taxon-ids.csv and us it to help map user given taxon names to thier ids to be used later\n",
    "    for line in (open(\"taxon-ids.csv\")):\n",
    "        info=line.strip().lower().split(',')\n",
    "        nameL[info[1]]={str(info[0])}\n",
    "    usrinp=''\n",
    "    #Moves us into the folder we will begin looking for the sets in\n",
    "    os.chdir('sets_new')\n",
    "    #Here we begin a while loop for user input where the input the month and species name they wish to find an image for\n",
    "    while usrinp.lower()!= 'q':\n",
    "        rel_path =input(\"Enter Month number (01-12 or years_sets)(Q/q to quit): \")\n",
    "        if(rel_path.lower()=='q'):\n",
    "            break\n",
    "        usrinp=input(\"Enter a Name(Q/q to quit): \")\n",
    "        if(usrinp.lower()=='q'):\n",
    "            break\n",
    "        usrinp=usrinp.lower().strip()    \n",
    "        os.chdir(rel_path)\n",
    "        dirLength=len(os.listdir(os.getcwd()))\n",
    "        stuff=\"\"\n",
    "        \n",
    "        #Here the program goes into the location specified by the user and opens the image the wanted\n",
    "        for run in range(dirLength-1):    \n",
    "            if (usrinp in nameL.keys()):\n",
    "                tmp=str(nameL[usrinp]).lstrip('{\\'').rstrip('\\'}')+\".csv+output-prediction.png\" #change this to the file output from hpc\n",
    "                if os.path.isfile(tmp)==False:\n",
    "                    print(\"Error File not Found! Possibly not enough data\")\n",
    "                    os.chdir(\"..\")\n",
    "                    break\n",
    "                img=PIL.Image.open(tmp)\n",
    "                img.show()\n",
    "                os.chdir(\"..\")\n",
    "                break\n",
    "  \n",
    "if __name__ == '__main__':\n",
    "    main()"
   ]
  },
  {
   "cell_type": "code",
   "execution_count": 1,
   "metadata": {},
   "outputs": [
    {
     "name": "stdout",
     "output_type": "stream",
     "text": [
      "hello\n"
     ]
    }
   ],
   "source": [
    "print('hello')"
   ]
  },
  {
   "cell_type": "code",
   "execution_count": null,
   "metadata": {
    "collapsed": true
   },
   "outputs": [],
   "source": []
  }
 ],
 "metadata": {
  "kernelspec": {
   "display_name": "Python 3",
   "language": "python",
   "name": "python3"
  },
  "language_info": {
   "codemirror_mode": {
    "name": "ipython",
    "version": 3
   },
   "file_extension": ".py",
   "mimetype": "text/x-python",
   "name": "python",
   "nbconvert_exporter": "python",
   "pygments_lexer": "ipython3",
   "version": "3.6.1"
  }
 },
 "nbformat": 4,
 "nbformat_minor": 2
}
