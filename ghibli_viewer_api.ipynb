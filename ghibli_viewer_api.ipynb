{
 "cells": [
  {
   "cell_type": "code",
   "execution_count": 81,
   "metadata": {
    "collapsed": true
   },
   "outputs": [],
   "source": [
    "import pandas as pd"
   ]
  },
  {
   "cell_type": "markdown",
   "metadata": {},
   "source": [
    "Pandas makes organization of the info we get back easier"
   ]
  },
  {
   "cell_type": "code",
   "execution_count": 82,
   "metadata": {
    "collapsed": true
   },
   "outputs": [],
   "source": [
    "earl = 'https://ghibliapi.herokuapp.com/films'"
   ]
  },
  {
   "cell_type": "code",
   "execution_count": 83,
   "metadata": {
    "collapsed": true
   },
   "outputs": [],
   "source": [
    "api_frame = pd.read_json(earl)"
   ]
  },
  {
   "cell_type": "code",
   "execution_count": 84,
   "metadata": {},
   "outputs": [],
   "source": [
    "ids = api_frame[\"id\"]"
   ]
  },
  {
   "cell_type": "markdown",
   "metadata": {},
   "source": [
    "Fetching the ids for each film"
   ]
  },
  {
   "cell_type": "code",
   "execution_count": 85,
   "metadata": {},
   "outputs": [
    {
     "data": {
      "text/plain": [
       "0     2baf70d1-42bb-4437-b551-e5fed5a87abe\n",
       "1     12cfb892-aac0-4c5b-94af-521852e46d6a\n",
       "2     58611129-2dbc-4a81-a72f-77ddfc1b1b49\n",
       "3     ea660b10-85c4-4ae3-8a5f-41cea3648e3e\n",
       "4     4e236f34-b981-41c3-8c65-f8c9000b94e7\n",
       "5     ebbb6b7c-945c-41ee-a792-de0e43191bd8\n",
       "6     1b67aa9a-2e4a-45af-ac98-64d6ad15b16c\n",
       "7     ff24da26-a969-4f0e-ba1e-a122ead6c6e3\n",
       "8     0440483e-ca0e-4120-8c50-4c8cd9b965d6\n",
       "9     45204234-adfd-45cb-a505-a8e7a676b114\n",
       "10    dc2e6bd1-8156-4886-adff-b39e6043af0c\n",
       "11    90b72513-afd4-4570-84de-a56c312fdf81\n",
       "12    cd3d059c-09f4-4ff3-8d63-bc765a5184fa\n",
       "13    112c1e67-726f-40b1-ac17-6974127bb9b9\n",
       "14    758bf02e-3122-46e0-884e-67cf83df1786\n",
       "15    2de9426b-914a-4a06-a3a0-5e6d9d3886f6\n",
       "16    45db04e4-304a-4933-9823-33f389e8d74d\n",
       "17    67405111-37a5-438f-81cc-4666af60c800\n",
       "18    578ae244-7750-4d9f-867b-f3cd3d6fecf4\n",
       "19    5fdfb320-2a02-49a7-94ff-5ca418cae602\n",
       "Name: id, dtype: object"
      ]
     },
     "execution_count": 85,
     "metadata": {},
     "output_type": "execute_result"
    }
   ],
   "source": [
    "ids"
   ]
  },
  {
   "cell_type": "code",
   "execution_count": 86,
   "metadata": {},
   "outputs": [],
   "source": [
    "what_want = ids[17:]"
   ]
  },
  {
   "cell_type": "markdown",
   "metadata": {},
   "source": [
    "Now that we have the ids we can simply get whichever movies we want, in this case the last 3"
   ]
  },
  {
   "cell_type": "code",
   "execution_count": 87,
   "metadata": {},
   "outputs": [],
   "source": [
    "film_titles = []"
   ]
  },
  {
   "cell_type": "markdown",
   "metadata": {},
   "source": [
    "Initializing a list for film titles"
   ]
  },
  {
   "cell_type": "code",
   "execution_count": 88,
   "metadata": {},
   "outputs": [],
   "source": [
    "for i in what_want:\n",
    "    newearl = earl + '/' + i\n",
    "    film = pd.read_json(newearl)\n",
    "    film_titles.append(film['title'])"
   ]
  },
  {
   "cell_type": "markdown",
   "metadata": {},
   "source": [
    "Here we iterate through the list of films and get a data frame for each film we want"
   ]
  },
  {
   "cell_type": "code",
   "execution_count": 89,
   "metadata": {},
   "outputs": [
    {
     "data": {
      "text/plain": [
       "[0    The Wind Rises\n",
       " Name: title, dtype: object, 0    The Tale of the Princess Kaguya\n",
       " Name: title, dtype: object, 0    When Marnie Was There\n",
       " Name: title, dtype: object]"
      ]
     },
     "execution_count": 89,
     "metadata": {},
     "output_type": "execute_result"
    }
   ],
   "source": [
    "film_titles"
   ]
  },
  {
   "cell_type": "markdown",
   "metadata": {},
   "source": [
    "And here is the final list of film titles"
   ]
  }
 ],
 "metadata": {
  "kernelspec": {
   "display_name": "Python 3",
   "language": "python",
   "name": "python3"
  },
  "language_info": {
   "codemirror_mode": {
    "name": "ipython",
    "version": 3
   },
   "file_extension": ".py",
   "mimetype": "text/x-python",
   "name": "python",
   "nbconvert_exporter": "python",
   "pygments_lexer": "ipython3",
   "version": "3.6.1"
  }
 },
 "nbformat": 4,
 "nbformat_minor": 2
}
