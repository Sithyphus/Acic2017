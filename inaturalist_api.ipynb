{
 "cells": [
  {
   "cell_type": "markdown",
   "metadata": {},
   "source": [
    "©Copyright Asa Myrvik, Jorge Barrios, Ryan Watson, Jeramiah Hanson 2017"
   ]
  },
  {
   "cell_type": "code",
   "execution_count": 134,
   "metadata": {
    "collapsed": true
   },
   "outputs": [],
   "source": [
    "import pandas as pd"
   ]
  },
  {
   "cell_type": "code",
   "execution_count": 140,
   "metadata": {
    "collapsed": true
   },
   "outputs": [],
   "source": [
    "import requests\n",
    "import csv"
   ]
  },
  {
   "cell_type": "markdown",
   "metadata": {},
   "source": [
    "Imports our various tools\n",
    "Pandas for dataframing\n",
    "requests getting info\n",
    "csv for csv traversal"
   ]
  },
  {
   "cell_type": "code",
   "execution_count": 136,
   "metadata": {
    "collapsed": true
   },
   "outputs": [],
   "source": [
    "earl = 'http://api.inaturalist.org/v1/observations?year=2016'"
   ]
  },
  {
   "cell_type": "markdown",
   "metadata": {},
   "source": [
    "The base url for the api which specifies the year"
   ]
  },
  {
   "cell_type": "code",
   "execution_count": 172,
   "metadata": {},
   "outputs": [],
   "source": [
    "names = []\n",
    "fp=csv.reader(open('spLst.csv','r'))\n",
    "taxons=[]\n",
    "url=\"\"\n",
    "for line in fp:\n",
    "    line=line[0].split(': ')\n",
    "    names.append(line[1])\n",
    "    line=line[1].split(' ')\n",
    "    for i in range(len(line)):\n",
    "        tmp=len(line)\n",
    "        userinp=\" \".join(line)\n",
    "        if i==0:\n",
    "            url=\"http://api.inaturalist.org/v1/taxa/autocomplete?q=\"+line[i]\n",
    "        if i!=0:\n",
    "            url+=line[i]\n",
    "        if i<len(line)-1:\n",
    "            url+=\"%20\"\n",
    "    df=pd.read_json(url)\n",
    "    ls=[]\n",
    "\n",
    "    for i in range(len(df.index)):\n",
    "        for j in range(len(df.columns)):\n",
    "            ls.append(df.iloc[i,j])\n",
    "    for i in range(len(ls)):\n",
    "        if type(ls[i]) is dict:\n",
    "            for val in ls[i]:\n",
    "                if val == 'name':\n",
    "                    if ls[i][val]==userinp:\n",
    "                        taxons.append(ls[i]['id'])\n",
    "        else:\n",
    "            continue"
   ]
  },
  {
   "cell_type": "markdown",
   "metadata": {},
   "source": [
    "This code fetches a list of numerical id codes corresponding to taxon names, also the variable \"names\" is created to store the string names for later use"
   ]
  },
  {
   "cell_type": "code",
   "execution_count": 160,
   "metadata": {},
   "outputs": [],
   "source": [
    "data_frams = []"
   ]
  },
  {
   "cell_type": "code",
   "execution_count": 161,
   "metadata": {},
   "outputs": [],
   "source": [
    "for i in range(12):\n",
    "    month_lst = []\n",
    "    for L in taxons:\n",
    "        month_lst.append(pd.read_json(earl + '&month=' + str(i+1) + '&taxon_id=' + str(L)))\n",
    "    data_frams.append(month_lst)"
   ]
  },
  {
   "cell_type": "markdown",
   "metadata": {},
   "source": [
    "This code builds a list of lists, each containind data frames with the desired information"
   ]
  },
  {
   "cell_type": "code",
   "execution_count": 168,
   "metadata": {
    "collapsed": true
   },
   "outputs": [],
   "source": [
    "months = ['January', 'February', 'March', 'April', 'May', 'June','July','August', 'September','October','November', 'December']"
   ]
  },
  {
   "cell_type": "code",
   "execution_count": 201,
   "metadata": {},
   "outputs": [],
   "source": [
    "table = []\n",
    "for i in range(len(data_frams)):\n",
    "    mon = []\n",
    "    for j in range(len(data_frams[i])):\n",
    "        if len(data_frams[i][j]) != 0:\n",
    "            mon.append(data_frams[i][j]['total_results'][0])\n",
    "        else:\n",
    "            mon.append(0)\n",
    "    table.append(mon)"
   ]
  },
  {
   "cell_type": "markdown",
   "metadata": {},
   "source": [
    "Makes and transposes a data frame using the month list and names list as column and row headers"
   ]
  },
  {
   "cell_type": "code",
   "execution_count": 215,
   "metadata": {},
   "outputs": [],
   "source": [
    "tab = pd.DataFrame(table, columns= names, index = months)"
   ]
  },
  {
   "cell_type": "code",
   "execution_count": 217,
   "metadata": {},
   "outputs": [
    {
     "data": {
      "text/html": [
       "<div>\n",
       "<style>\n",
       "    .dataframe thead tr:only-child th {\n",
       "        text-align: right;\n",
       "    }\n",
       "\n",
       "    .dataframe thead th {\n",
       "        text-align: left;\n",
       "    }\n",
       "\n",
       "    .dataframe tbody tr th {\n",
       "        vertical-align: top;\n",
       "    }\n",
       "</style>\n",
       "<table border=\"1\" class=\"dataframe\">\n",
       "  <thead>\n",
       "    <tr style=\"text-align: right;\">\n",
       "      <th></th>\n",
       "      <th>January</th>\n",
       "      <th>February</th>\n",
       "      <th>March</th>\n",
       "      <th>April</th>\n",
       "      <th>May</th>\n",
       "      <th>June</th>\n",
       "      <th>July</th>\n",
       "      <th>August</th>\n",
       "      <th>September</th>\n",
       "      <th>October</th>\n",
       "      <th>November</th>\n",
       "      <th>December</th>\n",
       "    </tr>\n",
       "  </thead>\n",
       "  <tbody>\n",
       "    <tr>\n",
       "      <th>Danaus plexippus</th>\n",
       "      <td>102</td>\n",
       "      <td>175</td>\n",
       "      <td>266</td>\n",
       "      <td>304</td>\n",
       "      <td>216</td>\n",
       "      <td>224</td>\n",
       "      <td>416</td>\n",
       "      <td>742</td>\n",
       "      <td>984</td>\n",
       "      <td>1249</td>\n",
       "      <td>584</td>\n",
       "      <td>265</td>\n",
       "    </tr>\n",
       "    <tr>\n",
       "      <th>Hyles lineata</th>\n",
       "      <td>1</td>\n",
       "      <td>6</td>\n",
       "      <td>73</td>\n",
       "      <td>59</td>\n",
       "      <td>43</td>\n",
       "      <td>26</td>\n",
       "      <td>67</td>\n",
       "      <td>70</td>\n",
       "      <td>50</td>\n",
       "      <td>16</td>\n",
       "      <td>5</td>\n",
       "      <td>1</td>\n",
       "    </tr>\n",
       "    <tr>\n",
       "      <th>Zerene cesonia</th>\n",
       "      <td>3</td>\n",
       "      <td>1</td>\n",
       "      <td>1</td>\n",
       "      <td>7</td>\n",
       "      <td>4</td>\n",
       "      <td>4</td>\n",
       "      <td>9</td>\n",
       "      <td>13</td>\n",
       "      <td>48</td>\n",
       "      <td>87</td>\n",
       "      <td>109</td>\n",
       "      <td>20</td>\n",
       "    </tr>\n",
       "    <tr>\n",
       "      <th>Papilio multicaudata</th>\n",
       "      <td>0</td>\n",
       "      <td>2</td>\n",
       "      <td>4</td>\n",
       "      <td>11</td>\n",
       "      <td>14</td>\n",
       "      <td>33</td>\n",
       "      <td>32</td>\n",
       "      <td>32</td>\n",
       "      <td>31</td>\n",
       "      <td>21</td>\n",
       "      <td>5</td>\n",
       "      <td>3</td>\n",
       "    </tr>\n",
       "    <tr>\n",
       "      <th>Agraulis vanillae</th>\n",
       "      <td>29</td>\n",
       "      <td>33</td>\n",
       "      <td>42</td>\n",
       "      <td>80</td>\n",
       "      <td>88</td>\n",
       "      <td>97</td>\n",
       "      <td>192</td>\n",
       "      <td>243</td>\n",
       "      <td>348</td>\n",
       "      <td>698</td>\n",
       "      <td>387</td>\n",
       "      <td>75</td>\n",
       "    </tr>\n",
       "    <tr>\n",
       "      <th>Papilio cresphontes</th>\n",
       "      <td>1</td>\n",
       "      <td>5</td>\n",
       "      <td>10</td>\n",
       "      <td>9</td>\n",
       "      <td>18</td>\n",
       "      <td>40</td>\n",
       "      <td>54</td>\n",
       "      <td>104</td>\n",
       "      <td>73</td>\n",
       "      <td>76</td>\n",
       "      <td>12</td>\n",
       "      <td>3</td>\n",
       "    </tr>\n",
       "    <tr>\n",
       "      <th>Strymon melinus</th>\n",
       "      <td>4</td>\n",
       "      <td>29</td>\n",
       "      <td>16</td>\n",
       "      <td>128</td>\n",
       "      <td>99</td>\n",
       "      <td>100</td>\n",
       "      <td>123</td>\n",
       "      <td>162</td>\n",
       "      <td>219</td>\n",
       "      <td>240</td>\n",
       "      <td>29</td>\n",
       "      <td>2</td>\n",
       "    </tr>\n",
       "    <tr>\n",
       "      <th>Vanessa cardui</th>\n",
       "      <td>12</td>\n",
       "      <td>24</td>\n",
       "      <td>32</td>\n",
       "      <td>61</td>\n",
       "      <td>47</td>\n",
       "      <td>97</td>\n",
       "      <td>121</td>\n",
       "      <td>86</td>\n",
       "      <td>76</td>\n",
       "      <td>104</td>\n",
       "      <td>164</td>\n",
       "      <td>38</td>\n",
       "    </tr>\n",
       "    <tr>\n",
       "      <th>Hylephila phyleus</th>\n",
       "      <td>5</td>\n",
       "      <td>11</td>\n",
       "      <td>40</td>\n",
       "      <td>72</td>\n",
       "      <td>65</td>\n",
       "      <td>117</td>\n",
       "      <td>148</td>\n",
       "      <td>223</td>\n",
       "      <td>292</td>\n",
       "      <td>279</td>\n",
       "      <td>128</td>\n",
       "      <td>17</td>\n",
       "    </tr>\n",
       "    <tr>\n",
       "      <th>Danaus gilippus</th>\n",
       "      <td>15</td>\n",
       "      <td>9</td>\n",
       "      <td>12</td>\n",
       "      <td>20</td>\n",
       "      <td>31</td>\n",
       "      <td>55</td>\n",
       "      <td>92</td>\n",
       "      <td>118</td>\n",
       "      <td>201</td>\n",
       "      <td>364</td>\n",
       "      <td>244</td>\n",
       "      <td>82</td>\n",
       "    </tr>\n",
       "  </tbody>\n",
       "</table>\n",
       "</div>"
      ],
      "text/plain": [
       "                      January  February  March  April  May  June  July  \\\n",
       "Danaus plexippus          102       175    266    304  216   224   416   \n",
       "Hyles lineata               1         6     73     59   43    26    67   \n",
       "Zerene cesonia              3         1      1      7    4     4     9   \n",
       "Papilio multicaudata        0         2      4     11   14    33    32   \n",
       "Agraulis vanillae          29        33     42     80   88    97   192   \n",
       "Papilio cresphontes         1         5     10      9   18    40    54   \n",
       "Strymon melinus             4        29     16    128   99   100   123   \n",
       "Vanessa cardui             12        24     32     61   47    97   121   \n",
       "Hylephila phyleus           5        11     40     72   65   117   148   \n",
       "Danaus gilippus            15         9     12     20   31    55    92   \n",
       "\n",
       "                      August  September  October  November  December  \n",
       "Danaus plexippus         742        984     1249       584       265  \n",
       "Hyles lineata             70         50       16         5         1  \n",
       "Zerene cesonia            13         48       87       109        20  \n",
       "Papilio multicaudata      32         31       21         5         3  \n",
       "Agraulis vanillae        243        348      698       387        75  \n",
       "Papilio cresphontes      104         73       76        12         3  \n",
       "Strymon melinus          162        219      240        29         2  \n",
       "Vanessa cardui            86         76      104       164        38  \n",
       "Hylephila phyleus        223        292      279       128        17  \n",
       "Danaus gilippus          118        201      364       244        82  "
      ]
     },
     "execution_count": 217,
     "metadata": {},
     "output_type": "execute_result"
    }
   ],
   "source": [
    "tab.T"
   ]
  }
 ],
 "metadata": {
  "kernelspec": {
   "display_name": "Python 3",
   "language": "python",
   "name": "python3"
  },
  "language_info": {
   "codemirror_mode": {
    "name": "ipython",
    "version": 3
   },
   "file_extension": ".py",
   "mimetype": "text/x-python",
   "name": "python",
   "nbconvert_exporter": "python",
   "pygments_lexer": "ipython3",
   "version": "3.6.1"
  }
 },
 "nbformat": 4,
 "nbformat_minor": 2
}
